{
 "cells": [
  {
   "cell_type": "code",
   "execution_count": 4,
   "id": "970df2b9",
   "metadata": {},
   "outputs": [],
   "source": [
    "\n",
    "import mysql.connector \n",
    "from mysql.connector import Error\n",
    "import pandas as pd\n",
    "\n",
    "\n"
   ]
  },
  {
   "cell_type": "code",
   "execution_count": 5,
   "id": "9812cd3a",
   "metadata": {},
   "outputs": [
    {
     "name": "stdout",
     "output_type": "stream",
     "text": [
      "Database connection successful\n"
     ]
    }
   ],
   "source": [
    "def connection_with_server(host_name,server_name,server_pwd) :\n",
    "    connection = None\n",
    "    try:\n",
    "        connection = mysql.connector.connect(\n",
    "        host = host_name,\n",
    "        user = server_name,\n",
    "        password = server_pwd \n",
    "        )\n",
    "        print(\"Database connection successful\")\n",
    "    except Error as err:\n",
    "        print(f\"Error : '{err}'\")\n",
    "    return connection\n",
    "        \n",
    "## put our server password \n",
    "pw = \"\"\n",
    "\n",
    "### database name \n",
    "db = \"assignment\"\n",
    "\n",
    "\n",
    "connection= connection_with_server(\"localhost\",\"root\",pw)\n",
    "\n",
    "        "
   ]
  },
  {
   "cell_type": "code",
   "execution_count": 6,
   "id": "03c917a5",
   "metadata": {},
   "outputs": [
    {
     "name": "stdout",
     "output_type": "stream",
     "text": [
      "Error: '1007 (HY000): Can't create database 'mysql_python'; database exists' \n"
     ]
    }
   ],
   "source": [
    "## creat mysql_python\n",
    "\n",
    "def create_database(connection,query):\n",
    "    cursor = connection.cursor()\n",
    "    try:\n",
    "        cursor.execute(query)\n",
    "        print(\"database created successfully\")\n",
    "    except Error as err:\n",
    "        print(f\"Error: '{err}' \")\n",
    "create_database_query = \"create database mysql_python\"\n",
    "create_database(connection ,create_database_query )"
   ]
  },
  {
   "cell_type": "code",
   "execution_count": 12,
   "id": "16fa063d",
   "metadata": {},
   "outputs": [],
   "source": [
    "def create_db_connection(host_name,user_name,user_pwd,db_name):\n",
    "    connection = None\n",
    "    try:\n",
    "        connection = mysql.connector.connect(\n",
    "                        host = host_name,\n",
    "                        user = user_name,\n",
    "                        pwd = user_pwd,\n",
    "                        database = db_name)\n",
    "        print(\"connection successfully\")\n",
    "    except Error as err :\n",
    "        print(f\"Error :'{err} ' \")\n",
    "    return connection"
   ]
  },
  {
   "cell_type": "code",
   "execution_count": 13,
   "id": "9ce26542",
   "metadata": {},
   "outputs": [],
   "source": [
    "## execute sql queries\n",
    "def exectue_query(connection,query):\n",
    "    cursor = connection.cursor()\n",
    "    try:\n",
    "        cursor.execute(query)\n",
    "        connection.commit()\n",
    "        print(\"query run successfully\")\n",
    "    except Error as err:\n",
    "        print(f\"Error: '{err}' \")"
   ]
  },
  {
   "cell_type": "code",
   "execution_count": null,
   "id": "5afc3efb",
   "metadata": {},
   "outputs": [],
   "source": []
  }
 ],
 "metadata": {
  "kernelspec": {
   "display_name": "Python 3",
   "language": "python",
   "name": "python3"
  },
  "language_info": {
   "codemirror_mode": {
    "name": "ipython",
    "version": 3
   },
   "file_extension": ".py",
   "mimetype": "text/x-python",
   "name": "python",
   "nbconvert_exporter": "python",
   "pygments_lexer": "ipython3",
   "version": "3.11.0"
  }
 },
 "nbformat": 4,
 "nbformat_minor": 5
}
