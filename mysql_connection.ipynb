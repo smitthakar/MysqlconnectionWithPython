{
 "cells": [
  {
   "cell_type": "code",
   "execution_count": 3,
   "id": "970df2b9",
   "metadata": {},
   "outputs": [],
   "source": [
    "\n",
    "import mysql.connector \n",
    "from mysql.connector import Error\n",
    "import pandas as pd\n",
    "\n",
    "\n"
   ]
  },
  {
   "cell_type": "code",
   "execution_count": 4,
   "id": "9812cd3a",
   "metadata": {},
   "outputs": [
    {
     "name": "stdout",
     "output_type": "stream",
     "text": [
      "Database connection successful\n"
     ]
    }
   ],
   "source": [
    "def connection_with_server(host_name,server_name,server_pwd) :\n",
    "    connection = None\n",
    "    try:\n",
    "        connection = mysql.connector.connect(\n",
    "        host = host_name,\n",
    "        user = server_name,\n",
    "        password = server_pwd \n",
    "        )\n",
    "        print(\"Database connection successful\")\n",
    "    except Error as err:\n",
    "        print(f\"Error : '{err}'\")\n",
    "    return connection\n",
    "        \n",
    "## put our server password \n",
    "pw = \"\"\n",
    "\n",
    "### database name \n",
    "db = \"assignment\"\n",
    "\n",
    "\n",
    "connection= connection_with_server(\"localhost\",\"root\",pw)\n",
    "\n",
    "        "
   ]
  },
  {
   "cell_type": "code",
   "execution_count": 7,
   "id": "03c917a5",
   "metadata": {},
   "outputs": [
    {
     "name": "stdout",
     "output_type": "stream",
     "text": [
      "database created successfully\n"
     ]
    }
   ],
   "source": [
    "## creat mysql_python\n",
    "\n",
    "def create_database(connection,query):\n",
    "    cursor = connection.cursor()\n",
    "    try:\n",
    "        cursor.execute(query)\n",
    "        print(\"database created successfully\")\n",
    "    except Error as err:\n",
    "        print(f\"Error: '{err}' \")\n",
    "create_database_query = \"create database python_sql\"\n",
    "create_database(connection ,create_database_query )"
   ]
  },
  {
   "cell_type": "code",
   "execution_count": 9,
   "id": "6a81697c",
   "metadata": {},
   "outputs": [],
   "source": [
    "def create_db_connection(host_name,user_name,user_pwd,db_name):\n",
    "    connection = None\n",
    "    try:\n",
    "        connection = mysql.connector.connect(\n",
    "                        host = host_name,\n",
    "                        user = user_name,\n",
    "                        passwd = user_pwd,\n",
    "                        database = db_name)\n",
    "        print(\"connection successfully\")\n",
    "    except Error as err :\n",
    "        print(f\"Error :'{err} ' \")\n",
    "    return connection\n",
    "\n",
    "pwd = \"\"\n",
    "db = \"mysql_python\""
   ]
  },
  {
   "cell_type": "code",
   "execution_count": 10,
   "id": "b7fc6db2",
   "metadata": {},
   "outputs": [],
   "source": [
    "## execute sql queries\n",
    "def execute_query(connection,query):\n",
    "    cursor = connection.cursor()\n",
    "    try:\n",
    "        cursor.execute(query)\n",
    "        connection.commit()\n",
    "        print(\"query run successfully\")\n",
    "    except Error as err:\n",
    "        print(f\"Error: '{err}' \")"
   ]
  },
  {
   "cell_type": "code",
   "execution_count": 14,
   "id": "55033314",
   "metadata": {},
   "outputs": [
    {
     "name": "stdout",
     "output_type": "stream",
     "text": [
      "connection successfully\n",
      "query run successfully\n"
     ]
    }
   ],
   "source": [
    "create_table  =  \"\"\" \n",
    "create table orders1(\n",
    "order_id int primary key,\n",
    "customer_name varchar(20) not null,\n",
    "product_name varchar(20) not null,\n",
    "order_date date,\n",
    "quentity int,\n",
    "unit_price float,\n",
    "phone_number varchar(20)\n",
    ");\n",
    "\"\"\"\n",
    "\n",
    "\n",
    "## connection to database \n",
    "\n",
    "connection = create_db_connection(\"localhost\",\"root\",pwd,db)\n",
    "execute_query(connection , create_table)"
   ]
  },
  {
   "cell_type": "code",
   "execution_count": 15,
   "id": "baf7348c",
   "metadata": {},
   "outputs": [
    {
     "name": "stdout",
     "output_type": "stream",
     "text": [
      "query run successfully\n"
     ]
    }
   ],
   "source": [
    "insert_data = \"\"\"\n",
    "INSERT INTO orders1 VALUES\n",
    "    (1, 'John Doe', 'Laptop', '2024-11-01', 1, 999.99, '123-456-7890'),\n",
    "    (2, 'Jane Smith', 'Smartphone', '2024-11-02', 2, 599.99, '234-567-8901'),\n",
    "    (3, 'Alice Brown', 'Headphones', '2024-11-03', 5, 49.99, '345-678-9012');\n",
    "\"\"\"\n",
    "\n",
    "# Execute the insert query\n",
    "execute_query(connection, insert_data)\n"
   ]
  },
  {
   "cell_type": "code",
   "execution_count": 16,
   "id": "46d1842a",
   "metadata": {},
   "outputs": [],
   "source": [
    "## read data \n",
    "def read_query(connection,query):\n",
    "    cursor = connection.cursor()\n",
    "    result = None\n",
    "    try:\n",
    "        cursor.execute(query)\n",
    "        result = cursor.fetchall()\n",
    "        return result\n",
    "    except Error as err:\n",
    "        print(f\"Error : '{err}'\")\n"
   ]
  },
  {
   "cell_type": "code",
   "execution_count": 17,
   "id": "e31c6155",
   "metadata": {},
   "outputs": [
    {
     "name": "stdout",
     "output_type": "stream",
     "text": [
      "connection successfully\n",
      "(1, 'John Doe', 'Laptop', datetime.date(2024, 11, 1), 1, 999.99, '123-456-7890')\n",
      "(2, 'Jane Smith', 'Smartphone', datetime.date(2024, 11, 2), 2, 599.99, '234-567-8901')\n",
      "(3, 'Alice Brown', 'Headphones', datetime.date(2024, 11, 3), 5, 49.99, '345-678-9012')\n"
     ]
    }
   ],
   "source": [
    "q1 =\"\"\"\n",
    "select * from orders1;\n",
    "\"\"\"\n",
    "\n",
    "connection = create_db_connection(\"localhost\",\"root\",pwd,db)\n",
    "results = read_query(connection , q1) \n",
    "\n",
    "for result in results : \n",
    "    print(result)"
   ]
  },
  {
   "cell_type": "code",
   "execution_count": 18,
   "id": "4fea163f",
   "metadata": {},
   "outputs": [
    {
     "name": "stdout",
     "output_type": "stream",
     "text": [
      "connection successfully\n",
      "('John Doe', '123-456-7890')\n",
      "('Jane Smith', '234-567-8901')\n",
      "('Alice Brown', '345-678-9012')\n"
     ]
    }
   ],
   "source": [
    "q1 =\"\"\"\n",
    "select * from orders1;\n",
    "\"\"\"\n",
    "\n",
    "connection = create_db_connection(\"localhost\",\"root\",pwd,db)\n",
    "results = read_query(connection , q1) \n",
    "\n",
    "for result in results : \n",
    "    print(result)"
   ]
  },
  {
   "cell_type": "code",
   "execution_count": 19,
   "id": "ec7d5b60",
   "metadata": {},
   "outputs": [
    {
     "name": "stdout",
     "output_type": "stream",
     "text": [
      "connection successfully\n",
      "(2024,)\n",
      "(2024,)\n",
      "(2024,)\n"
     ]
    }
   ],
   "source": [
    "q3 =\"\"\"\n",
    "select year(order_date) from orders1;\n",
    "\"\"\"\n",
    "\n",
    "connection = create_db_connection(\"localhost\",\"root\",pwd,db)\n",
    "results = read_query(connection , q3) \n",
    "\n",
    "for result in results : \n",
    "    print(result)"
   ]
  },
  {
   "cell_type": "code",
   "execution_count": 20,
   "id": "46c7334c",
   "metadata": {},
   "outputs": [
    {
     "name": "stdout",
     "output_type": "stream",
     "text": [
      "connection successfully\n",
      "query run successfully\n"
     ]
    }
   ],
   "source": [
    "# DELETE query to remove a specific order by order_id\n",
    "delete_query = \"DELETE FROM orders1 WHERE order_id = 3;\"\n",
    "\n",
    "# Execute the delete query\n",
    "connection = create_db_connection(\"localhost\",\"root\",pwd,db)\n",
    "execute_query(connection, delete_query)\n"
   ]
  },
  {
   "cell_type": "code",
   "execution_count": 21,
   "id": "fe178218",
   "metadata": {},
   "outputs": [
    {
     "name": "stdout",
     "output_type": "stream",
     "text": [
      "connection successfully\n",
      "(1, 'John Doe', 'Laptop', datetime.date(2024, 11, 1), 1, 999.99, '123-456-7890')\n",
      "(2, 'Jane Smith', 'Smartphone', datetime.date(2024, 11, 2), 2, 599.99, '234-567-8901')\n"
     ]
    }
   ],
   "source": [
    "q4 =\"\"\"\n",
    "select * from orders1;\n",
    "\"\"\"\n",
    "\n",
    "connection = create_db_connection(\"localhost\",\"root\",pwd,db)\n",
    "results = read_query(connection , q4) \n",
    "\n",
    "for result in results : \n",
    "    print(result)"
   ]
  },
  {
   "cell_type": "code",
   "execution_count": 23,
   "id": "c7fbcd29",
   "metadata": {},
   "outputs": [
    {
     "name": "stdout",
     "output_type": "stream",
     "text": [
      "query run successfully\n"
     ]
    }
   ],
   "source": [
    "# UPDATE query to modify a record's quantity and price based on order_id\n",
    "update_query = \"\"\"\n",
    "UPDATE orders1 \n",
    "SET quentity = 2, unit_price = 529.99 \n",
    "WHERE order_id = 2;\n",
    "\"\"\"\n",
    "\n",
    "# Execute the update query\n",
    "execute_query(connection, update_query)\n"
   ]
  },
  {
   "cell_type": "code",
   "execution_count": 24,
   "id": "b9ec383b",
   "metadata": {},
   "outputs": [
    {
     "name": "stdout",
     "output_type": "stream",
     "text": [
      "connection successfully\n",
      "(1, 'John Doe', 'Laptop', datetime.date(2024, 11, 1), 1, 999.99, '123-456-7890')\n",
      "(2, 'Jane Smith', 'Smartphone', datetime.date(2024, 11, 2), 2, 529.99, '234-567-8901')\n"
     ]
    }
   ],
   "source": []
  }
 ],
 "metadata": {
  "kernelspec": {
   "display_name": "Python 3",
   "language": "python",
   "name": "python3"
  },
  "language_info": {
   "codemirror_mode": {
    "name": "ipython",
    "version": 3
   },
   "file_extension": ".py",
   "mimetype": "text/x-python",
   "name": "python",
   "nbconvert_exporter": "python",
   "pygments_lexer": "ipython3",
   "version": "3.11.0"
  }
 },
 "nbformat": 4,
 "nbformat_minor": 5
}
